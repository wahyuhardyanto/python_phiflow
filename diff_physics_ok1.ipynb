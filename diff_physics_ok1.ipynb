{
 "cells": [
  {
   "cell_type": "markdown",
   "id": "29fbb4d0-0c53-415e-a200-3eab830d0703",
   "metadata": {},
   "source": [
    "<font size=7 color=\"blue\">  Physics Modeling </font>"
   ]
  },
  {
   "cell_type": "markdown",
   "id": "a276ed3b-7e8e-4937-87b6-0dff2548c121",
   "metadata": {},
   "source": [
    "<br>\n",
    "<hr>\n",
    "\n",
    "<di>\n",
    "   <img src=\"pbdl_overview.jpg\" width=\"800\"/>\n",
    "</div>\n",
    "\n",
    "<hr>"
   ]
  },
  {
   "cell_type": "markdown",
   "id": "6184385f-0eaa-4829-bc30-3110f79a7736",
   "metadata": {},
   "source": [
    "<font size=6 color=\"blue\">  Physics Based Deep Learning </font>\n",
    "\n",
    "* ### Differentiable physics\n",
    "* ### Physics-Informed Neural Networks (PINNs)"
   ]
  },
  {
   "cell_type": "markdown",
   "id": "5613b111-55c1-463a-bff4-6ba605845c79",
   "metadata": {},
   "source": [
    "<center>\n",
    "<hr>\n",
    "<di>\n",
    "   <img src=\"diff_physics_p.png\" width=\"500\"/>\n",
    "</div>\n",
    "\n",
    "<hr>\n",
    "</center>"
   ]
  },
  {
   "cell_type": "markdown",
   "id": "e2b9652b-8e39-4ac5-9d2a-34f0e3c3d23e",
   "metadata": {},
   "source": [
    "<center>\n",
    "<hr>\n",
    "<font size=6 color=\"black\">  Backward Physics </font>\n",
    "<br>\n",
    "<br>\n",
    "<div>\n",
    "   <img src=\"diff_throw1.jpg\" width=\"550\"/>\n",
    "</div>\n",
    "\n",
    "<hr>\n",
    "</center>"
   ]
  },
  {
   "cell_type": "markdown",
   "id": "6fce62f4-04c2-4914-9512-0b144edf0d7c",
   "metadata": {},
   "source": [
    "## Module (Python): Differentiable Physics"
   ]
  },
  {
   "cell_type": "markdown",
   "id": "7a5bcb54-f080-41bf-b97c-9e28659374e9",
   "metadata": {},
   "source": [
    "* ### Numpy\n",
    "\n",
    "* ### Matplotlib\n",
    "\n",
    "* ### Pygame [**https://www.pygame.org**](https://www.pygame.org/news)\n",
    "\n",
    "\n",
    "* ### PyTorch [**https://pytorch.org**](https://pytorch.org/docs/stable/index.html)\n",
    "\n",
    "* ### TensorFlow [**https://www.tensorflow.org**](https://www.tensorflow.org/overview?hl=id)\n",
    "\n",
    "* ### Jax [**https://jax.readthedocs.io**](https://jax.readthedocs.io/en/latest/notebooks/quickstart.html)\n",
    "\n",
    "<hr>\n",
    "\n",
    "* ###  Φ-Flow [**https://github.com/tum-pbs/PhiFlow**](https://github.com/tum-pbs/PhiFlow)\n",
    "\n",
    "<hr>\n",
    "\n",
    "* ###  Taichi [**https://docs.taichi-lang.org**](https://docs.taichi-lang.org/docs/differentiable_programming)\n",
    "\n",
    "<hr>"
   ]
  },
  {
   "cell_type": "code",
   "execution_count": 1,
   "id": "11faab95-1ed0-4c1d-8285-a9c3cd594ffb",
   "metadata": {},
   "outputs": [
    {
     "ename": "ModuleNotFoundError",
     "evalue": "No module named 'phi'",
     "output_type": "error",
     "traceback": [
      "\u001b[0;31m---------------------------------------------------------------------------\u001b[0m",
      "\u001b[0;31mModuleNotFoundError\u001b[0m                       Traceback (most recent call last)",
      "Input \u001b[0;32mIn [1]\u001b[0m, in \u001b[0;36m<cell line: 2>\u001b[0;34m()\u001b[0m\n\u001b[1;32m      1\u001b[0m \u001b[38;5;66;03m# from phi.tf.flow import *\u001b[39;00m\n\u001b[0;32m----> 2\u001b[0m \u001b[38;5;28;01mfrom\u001b[39;00m \u001b[38;5;21;01mphi\u001b[39;00m\u001b[38;5;21;01m.\u001b[39;00m\u001b[38;5;21;01mtorch\u001b[39;00m\u001b[38;5;21;01m.\u001b[39;00m\u001b[38;5;21;01mflow\u001b[39;00m \u001b[38;5;28;01mimport\u001b[39;00m \u001b[38;5;241m*\u001b[39m\n",
      "\u001b[0;31mModuleNotFoundError\u001b[0m: No module named 'phi'"
     ]
    }
   ],
   "source": [
    "# from phi.tf.flow import *\n",
    "from phi.torch.flow import *\n",
    "# from phi.jax.stax.flow import *"
   ]
  },
  {
   "cell_type": "markdown",
   "id": "be58b001-0953-4cd8-a852-1be625c7c880",
   "metadata": {},
   "source": [
    "# Tensor and Automatic Spatial Gradient"
   ]
  },
  {
   "cell_type": "code",
   "execution_count": 2,
   "id": "a25e0632-8655-4ddb-b2cd-97fd7338ff60",
   "metadata": {},
   "outputs": [
    {
     "name": "stdout",
     "output_type": "stream",
     "text": [
      " 1, 2, 3, 4\n"
     ]
    }
   ],
   "source": [
    "data = math.tensor(numpy.array([1, 2, 3, 4]), batch('dim1'))\n",
    "print(f\"{data:full}\")"
   ]
  },
  {
   "cell_type": "code",
   "execution_count": 267,
   "id": "e3fee5ec-0326-4a7d-87a7-49342a9c1302",
   "metadata": {},
   "outputs": [
    {
     "name": "stdout",
     "output_type": "stream",
     "text": [
      "\u001b[94m1, 2, 3, 4\u001b[0m  along \u001b[92m(xˢ=4)\u001b[0m\n"
     ]
    }
   ],
   "source": [
    "data = math.tensor(numpy.array([1, 2, 3, 4]), spatial('x'))\n",
    "print(f\"{data:full}\")"
   ]
  },
  {
   "cell_type": "code",
   "execution_count": 3,
   "id": "1d5d8773-2d5f-45ec-99a3-7f0dd5f215b5",
   "metadata": {},
   "outputs": [
    {
     "name": "stdout",
     "output_type": "stream",
     "text": [
      "[[1, 2, 3, 4],\n",
      " [5, 6, 7, 8]]\n"
     ]
    }
   ],
   "source": [
    "data = math.tensor(numpy.array([[1, 2, 3, 4], [5, 6, 7, 8]]), batch('dim1','dim2'))\n",
    "print(f\"{data:full}\")"
   ]
  },
  {
   "cell_type": "code",
   "execution_count": 4,
   "id": "08806265-5b2a-4a83-9b50-229fbd4b7e58",
   "metadata": {},
   "outputs": [
    {
     "data": {
      "text/plain": [
       "\u001b[93mint64\u001b[0m \u001b[94m2\u001b[0m"
      ]
     },
     "execution_count": 4,
     "metadata": {},
     "output_type": "execute_result"
    }
   ],
   "source": [
    "data.dim1[0].dim2[1]"
   ]
  },
  {
   "cell_type": "code",
   "execution_count": 5,
   "id": "cae2884f-de81-483b-89e2-1b8285048339",
   "metadata": {},
   "outputs": [
    {
     "name": "stdout",
     "output_type": "stream",
     "text": [
      " 0.  , 0.01, 0.02, 0.03, 0.04, 0.05, 0.06, 0.07, 0.08, 0.09, 0.1 , 0.11, 0.12, 0.13, 0.14, 0.15, 0.16, 0.17, 0.18, 0.19, 0.2 , 0.21, 0.22, 0.23, 0.24, 0.25, 0.26, 0.27, 0.28, 0.29, 0.3 , 0.31, 0.32, 0.33, 0.34, 0.35, 0.36, 0.37, 0.38, 0.39, 0.4 , 0.41, 0.42, 0.43, 0.44, 0.45, 0.46, 0.47, 0.48, 0.49, 0.5 , 0.51, 0.52, 0.53, 0.54, 0.55, 0.56, 0.57, 0.58, 0.59, 0.6 , 0.61, 0.62, 0.63, 0.64, 0.65, 0.66, 0.67, 0.68, 0.69, 0.7 , 0.71, 0.72, 0.73, 0.74, 0.75, 0.76, 0.77, 0.78, 0.79, 0.8 , 0.81, 0.82, 0.83, 0.84, 0.85, 0.86, 0.87, 0.88, 0.89, 0.9 , 0.91, 0.92, 0.93, 0.94, 0.95, 0.96, 0.97, 0.98, 0.99, 1.  \n"
     ]
    }
   ],
   "source": [
    "data = math.tensor(numpy.linspace(0, 1, 101), batch('dim4'))\n",
    "print(f\"{data:full}\")"
   ]
  },
  {
   "cell_type": "code",
   "execution_count": 6,
   "id": "c69c0314-6e29-4270-83d4-94bfdfea54a5",
   "metadata": {},
   "outputs": [
    {
     "data": {
      "text/plain": [
       "NativeTensor.dim4ᵇ=101"
      ]
     },
     "execution_count": 6,
     "metadata": {},
     "output_type": "execute_result"
    }
   ],
   "source": [
    "data.dim4"
   ]
  },
  {
   "cell_type": "code",
   "execution_count": 7,
   "id": "1e728595-fd85-4f25-adc3-f0a400b46e99",
   "metadata": {},
   "outputs": [
    {
     "name": "stdout",
     "output_type": "stream",
     "text": [
      " 0.99701846, 0.42816067, 0.1072851 , 0.67417735, 0.91164887, 0.15588927, 0.30472717, 0.01767568, 0.44393113, 0.30450028\n"
     ]
    }
   ],
   "source": [
    "data = math.tensor(numpy.random.random(10), batch(dim2=10))\n",
    "\n",
    "print(f\"{data:full}\")"
   ]
  },
  {
   "cell_type": "code",
   "execution_count": 8,
   "id": "a4a85a82-f1d8-47b7-be58-e76b53184191",
   "metadata": {},
   "outputs": [
    {
     "data": {
      "text/plain": [
       "\u001b[92m(xˢ=4, yˢ=5, zˢ=3)\u001b[0m \u001b[94mconst 1.0\u001b[0m"
      ]
     },
     "execution_count": 8,
     "metadata": {},
     "output_type": "execute_result"
    }
   ],
   "source": [
    "grid = math.ones(spatial(x=4, y=5, z=3))\n",
    "grid"
   ]
  },
  {
   "cell_type": "code",
   "execution_count": 274,
   "id": "9f69c506-4c3a-43f8-883a-453b0c130b6c",
   "metadata": {},
   "outputs": [
    {
     "data": {
      "text/plain": [
       "\u001b[92m(xˢ=4, yˢ=5, zˢ=3, gradientᶜ=x,y,z)\u001b[0m \u001b[94mconst 0.0\u001b[0m"
      ]
     },
     "execution_count": 274,
     "metadata": {},
     "output_type": "execute_result"
    }
   ],
   "source": [
    "grid_grad = math.spatial_gradient(grid)\n",
    "grid_grad"
   ]
  },
  {
   "cell_type": "markdown",
   "id": "f98d4638-a9d7-4a24-99c0-983ca72ae98e",
   "metadata": {},
   "source": [
    "# Contoh 1: Fungsi Sinus"
   ]
  },
  {
   "cell_type": "markdown",
   "id": "095e8948-0953-4d4b-a7d1-1b194e6d6e71",
   "metadata": {},
   "source": [
    "\n",
    "* Kita buat jaringan NN dengan **Densely Connected Convolutional Networks (DenseNet)**\n"
   ]
  },
  {
   "cell_type": "code",
   "execution_count": 9,
   "id": "e9e68bd3-e9c4-40b2-a1ca-5c2a4fb35e58",
   "metadata": {},
   "outputs": [
    {
     "data": {
      "text/plain": [
       "DenseNet(\n",
       "  (linear0): Linear(in_features=1, out_features=32, bias=True)\n",
       "  (linear1): Linear(in_features=32, out_features=32, bias=True)\n",
       "  (linear_out): Linear(in_features=32, out_features=1, bias=True)\n",
       ")"
      ]
     },
     "execution_count": 9,
     "metadata": {},
     "output_type": "execute_result"
    }
   ],
   "source": [
    "net = dense_net(1, 1, [32, 32])\n",
    "net"
   ]
  },
  {
   "cell_type": "code",
   "execution_count": 10,
   "id": "f7267691-e6db-499e-a0da-765c281591c7",
   "metadata": {},
   "outputs": [
    {
     "data": {
      "text/plain": [
       "1153"
      ]
     },
     "execution_count": 10,
     "metadata": {},
     "output_type": "execute_result"
    }
   ],
   "source": [
    "parameter_count(net)"
   ]
  },
  {
   "cell_type": "markdown",
   "id": "a986cd20-cab8-44e5-92d0-33d1d32c9241",
   "metadata": {},
   "source": [
    "\n",
    "* Optimasi jaringan dengan Adaptive Moment Estimation (ADAM)\n"
   ]
  },
  {
   "cell_type": "code",
   "execution_count": 11,
   "id": "6a80aca2-aefb-42ca-ac51-be36140d4475",
   "metadata": {},
   "outputs": [
    {
     "data": {
      "text/plain": [
       "Adam (\n",
       "Parameter Group 0\n",
       "    amsgrad: False\n",
       "    betas: (0.9, 0.999)\n",
       "    capturable: False\n",
       "    differentiable: False\n",
       "    eps: 1e-07\n",
       "    foreach: None\n",
       "    fused: None\n",
       "    lr: 0.001\n",
       "    maximize: False\n",
       "    weight_decay: 0\n",
       ")"
      ]
     },
     "execution_count": 11,
     "metadata": {},
     "output_type": "execute_result"
    }
   ],
   "source": [
    "optimizer = adam(net)\n",
    "optimizer"
   ]
  },
  {
   "cell_type": "code",
   "execution_count": 278,
   "id": "6d143483-96ad-48ce-9066-657c19de77fd",
   "metadata": {},
   "outputs": [
    {
     "name": "stdout",
     "output_type": "stream",
     "text": [
      "1.0\n"
     ]
    }
   ],
   "source": [
    "x = lambda a : math.sin(a)\n",
    "print(x(PI/2))"
   ]
  },
  {
   "cell_type": "code",
   "execution_count": 279,
   "id": "d40a98df-b260-48cf-ba73-c690d3f8aa73",
   "metadata": {},
   "outputs": [
    {
     "name": "stdout",
     "output_type": "stream",
     "text": [
      "<function <lambda> at 0x13d97a040>\n"
     ]
    }
   ],
   "source": [
    "y = lambda x: math.native_call(net, x)\n",
    "print(y)"
   ]
  },
  {
   "cell_type": "code",
   "execution_count": 280,
   "id": "a4027863-cc9b-4a2c-85db-9d28768e2ad7",
   "metadata": {},
   "outputs": [
    {
     "data": {
      "text/plain": [
       "<Figure size 864x360 with 1 Axes>"
      ]
     },
     "execution_count": 280,
     "metadata": {},
     "output_type": "execute_result"
    },
    {
     "data": {
      "image/png": "[encoded data removed]",
      "text/plain": [
       "<Figure size 864x360 with 1 Axes>"
      ]
     },
     "metadata": {
      "needs_background": "light"
     },
     "output_type": "display_data"
    }
   ],
   "source": [
    "vis.plot(CenteredGrid(lambda x: math.native_call(net, x), x=100, bounds=Box(x=(-2,2))))"
   ]
  },
  {
   "cell_type": "code",
   "execution_count": 281,
   "id": "71807156-2646-408b-bafb-543f9a641e81",
   "metadata": {},
   "outputs": [
    {
     "data": {
      "text/plain": [
       "<Figure size 864x360 with 1 Axes>"
      ]
     },
     "execution_count": 281,
     "metadata": {},
     "output_type": "execute_result"
    },
    {
     "data": {
      "image/png": "[encoded data removed]",
      "text/plain": [
       "<Figure size 864x360 with 1 Axes>"
      ]
     },
     "metadata": {
      "needs_background": "light"
     },
     "output_type": "display_data"
    }
   ],
   "source": [
    "vis.plot(CenteredGrid(lambda x: math.stack(\n",
    "    {\"Prediction\": math.native_call(net, x), \n",
    "     \"Sin(x)\": math.sin(x.vector['x']) }, \n",
    "    channel('curve')), \n",
    "    x=100, bounds=Box(x=(-2,2))))"
   ]
  },
  {
   "cell_type": "markdown",
   "id": "3cb661f7-d158-46fb-9322-3e2d1ebd127f",
   "metadata": {},
   "source": [
    "### L2 Loss\n",
    "L2 Loss, juga dikenal sebagai Mean Squared Error (MSE) dalam konteks regresi atau Euclidean Loss dalam berbagai aplikasi, adalah sebagai berikut:\n",
    "\n",
    "$$ L2\\_Loss = \\frac{1}{N} \\sum_{i=1}^{N} (\\hat{y}_i - y_i)^2$$\n",
    "\n",
    "Jika kita memiliki sejumlah $N$ data pasangan (x, y), di mana $x$ adalah data input dan $y$ adalah target atau label yang sebenarnya, maka L2 Loss dihitung sebagai rata-rata kuadrat perbedaan antara prediksi model $\\hat{y}$ dan label sebenarnya $y$.\n",
    "\n"
   ]
  },
  {
   "cell_type": "code",
   "execution_count": 282,
   "id": "0fff1139-3952-4a58-90c4-7925a965c3cb",
   "metadata": {},
   "outputs": [],
   "source": [
    "# @math.jit_compile\n",
    "def loss_function(x):\n",
    "  prediction = math.native_call(net, x)\n",
    "  return math.l2_loss(prediction - math.sin(x)), x, prediction"
   ]
  },
  {
   "cell_type": "code",
   "execution_count": 283,
   "id": "3511bf06-022b-43f4-8052-4e1400005306",
   "metadata": {},
   "outputs": [
    {
     "data": {
      "text/plain": [
       "(\u001b[92m(examplesᵇ=100)\u001b[0m \u001b[94m0.216 ± 0.203\u001b[0m \u001b[37m(1e-05...7e-01)\u001b[0m,\n",
       " \u001b[92m(examplesᵇ=100)\u001b[0m \u001b[94m-0.052 ± 1.129\u001b[0m \u001b[37m(-3e+00...3e+00)\u001b[0m,\n",
       " \u001b[92m(examplesᵇ=100)\u001b[0m \u001b[94m0.138 ± 0.105\u001b[0m \u001b[37m(7e-03...5e-01)\u001b[0m)"
      ]
     },
     "execution_count": 283,
     "metadata": {},
     "output_type": "execute_result"
    }
   ],
   "source": [
    "loss_function(math.random_normal(batch(examples=100)))"
   ]
  },
  {
   "cell_type": "code",
   "execution_count": 284,
   "id": "b707f8b2-f005-4a6b-8670-63d3fceefdd0",
   "metadata": {},
   "outputs": [
    {
     "data": {
      "text/plain": [
       "\u001b[92m(examplesᵇ=100)\u001b[0m \u001b[94m0.206 ± 0.209\u001b[0m \u001b[37m(7e-07...7e-01)\u001b[0m"
      ]
     },
     "execution_count": 284,
     "metadata": {},
     "output_type": "execute_result"
    }
   ],
   "source": [
    "loss_function(math.random_normal(batch(examples=100)))[0]"
   ]
  },
  {
   "cell_type": "code",
   "execution_count": 285,
   "id": "fc392938-f4b1-47e3-88b7-aa8b5cd73377",
   "metadata": {},
   "outputs": [
    {
     "data": {
      "text/plain": [
       "\u001b[92m(examplesᵇ=100)\u001b[0m \u001b[94m0.058 ± 1.127\u001b[0m \u001b[37m(-3e+00...2e+00)\u001b[0m"
      ]
     },
     "execution_count": 285,
     "metadata": {},
     "output_type": "execute_result"
    }
   ],
   "source": [
    "loss_function(math.random_normal(batch(examples=100)))[1]"
   ]
  },
  {
   "cell_type": "code",
   "execution_count": 286,
   "id": "26cd392f-dda4-4604-98a7-d107b991c5c5",
   "metadata": {},
   "outputs": [
    {
     "data": {
      "text/plain": [
       "\u001b[92m(examplesᵇ=100)\u001b[0m \u001b[94m0.140 ± 0.105\u001b[0m \u001b[37m(2e-03...6e-01)\u001b[0m"
      ]
     },
     "execution_count": 286,
     "metadata": {},
     "output_type": "execute_result"
    }
   ],
   "source": [
    "loss_function(math.random_normal(batch(examples=100)))[2]"
   ]
  },
  {
   "cell_type": "code",
   "execution_count": 287,
   "id": "bc208946-15f0-446c-9a9d-994084b74578",
   "metadata": {},
   "outputs": [
    {
     "name": "stdout",
     "output_type": "stream",
     "text": [
      " -0.01991778, -0.3494694 , -0.84599996,  0.64123863,  0.6941028 ,  1.1129292 ,  1.8466241 , -0.03247464, -1.0245401 , -0.50790924,  2.0903594 ,  0.70467645,  0.38970312,  0.9289413 ,  0.94329077, -0.4956966 , -0.02533253,  0.96843666,  1.78628   , -0.20444153, -0.2176805 ,  1.888415  , -1.2161629 , -0.5081924 ,  1.193437  ,  1.3562826 , -0.8962257 ,  1.672435  ,  0.38231102, -0.07610504, -1.1366812 , -2.1704514 , -0.8387925 , -0.7339025 ,  0.43162978, -0.6215722 ,  1.1171668 , -1.6152656 , -0.9161727 , -2.6545522 ,  0.24731609,  0.01987226,  0.404139  ,  0.40744722,  0.57516325,  1.5875995 , -1.7094264 , -1.4580005 , -0.01458488, -1.0659585 , -1.2952707 , -0.05936924,  0.33039212, -0.52661014, -1.1229827 ,  0.10210951, -0.10092133,  2.4829607 , -1.0035162 ,  0.06236804, -1.8051431 , -0.29128474, -1.8399113 , -0.17535162,  0.4965633 ,  0.07864401,  0.0366822 , -0.98087496, -0.16521648, -1.0761137 ,  0.49745515, -0.89226544, -0.8279793 , -0.63659996, -0.33559453,  0.85221523, -1.8751992 ,  0.04329301,  0.18223608, -0.955618  ,  1.5058017 ,  0.14817552, -1.7639272 , -0.90164244,  1.2880456 , -0.37669873,  0.3361822 ,  0.2027598 ,  0.50486094,  0.24956957, -0.22649653,  0.34263715, -0.81002265, -0.72922456,  0.60142237, -1.5034175 ,  1.6729063 ,  0.47232807,  0.16108151, -0.18851769\n"
     ]
    }
   ],
   "source": [
    "print(f\"{loss_function(math.random_normal(batch(examples=100)))[1]:full}\")"
   ]
  },
  {
   "cell_type": "code",
   "execution_count": 288,
   "id": "2cb67da5-1470-4605-af80-2eac606dcc8c",
   "metadata": {},
   "outputs": [
    {
     "name": "stdout",
     "output_type": "stream",
     "text": [
      " -1.4018328 ,  0.50741816, -1.0692809 , -0.85255337,  0.81085205,  1.1360325 , -0.08925319, -0.6524041 , -0.7420655 , -0.3806256 , -1.2023935 , -0.7532047 ,  0.14556603,  0.07931792,  1.5482266 ,  0.5174304 ,  1.7381473 , -0.2956508 , -0.01200387, -0.5660591 ,  1.0510417 ,  0.34920633,  1.1078948 , -1.2407464 , -0.30112132,  0.437507  , -0.3095294 , -0.48822284,  1.1198876 , -0.5491894 , -0.8695202 ,  0.8676704 ,  0.4870471 , -0.11895584, -1.4796793 ,  1.6307596 , -1.405008  ,  0.8489574 ,  0.33456692, -0.9906604 , -0.0872436 ,  0.22008044, -1.0309712 , -0.6808512 ,  0.35092372,  0.65658605, -1.7816544 ,  0.04347197,  1.1790763 ,  0.83535933, -0.42777058, -0.6539786 ,  1.4752283 , -0.05521214,  0.4739008 , -0.15223883, -0.26700905, -1.6955671 ,  0.54559344, -0.88921726,  0.05621807, -0.44411504, -1.3607686 ,  0.33461496, -0.99904203,  0.6889639 , -1.0246133 , -2.0476034 ,  0.01739112, -0.72583354,  0.5273829 , -0.32363692, -0.64549834, -0.33454958,  0.21892488,  0.7162865 ,  0.67391086,  0.9834345 , -0.6820258 , -0.8061308 ,  0.58481884,  0.29254857, -1.7758998 , -0.85647655,  1.275108  , -0.5526636 , -0.7664683 , -1.9077867 ,  1.0400994 ,  0.7061973 , -0.72660315, -0.2657788 , -1.6959023 ,  0.6647326 , -0.9000964 , -1.2367225 , -0.7344866 ,  0.83717006, -1.4055064 , -0.734254  \n"
     ]
    }
   ],
   "source": [
    "print(f\"{math.random_normal(batch(examples=100)):full}\")"
   ]
  },
  {
   "cell_type": "markdown",
   "id": "109c2a7d-4a1f-455d-ad6e-ffbbf97500f9",
   "metadata": {},
   "source": [
    "### Pembaruan Bobot (update_weights)\n",
    "\n",
    "Bobot jaringan diperbarui berdasarkan hasil hitungan gradien dan algoritma optimisasi yang digunakan. \n",
    "Pembaruan ini dilakukan untuk meminimalkan fungsi kerugian (loss function) dan meningkatkan kinerja jaringan pada data pelatihan."
   ]
  },
  {
   "cell_type": "code",
   "execution_count": 289,
   "id": "bec37f63-4eac-4b60-83ed-3194559d4221",
   "metadata": {},
   "outputs": [
    {
     "data": {
      "text/plain": [
       "(\u001b[92m(examplesᵇ=100)\u001b[0m \u001b[94m0.190 ± 0.191\u001b[0m \u001b[37m(2e-08...7e-01)\u001b[0m,\n",
       " \u001b[92m(examplesᵇ=100)\u001b[0m \u001b[94m0.006 ± 1.057\u001b[0m \u001b[37m(-3e+00...3e+00)\u001b[0m,\n",
       " \u001b[92m(examplesᵇ=100)\u001b[0m \u001b[94m0.127 ± 0.103\u001b[0m \u001b[37m(2e-05...5e-01)\u001b[0m)"
      ]
     },
     "execution_count": 289,
     "metadata": {},
     "output_type": "execute_result"
    }
   ],
   "source": [
    "update_weights(net, optimizer, loss_function, math.random_normal(batch(examples=100)))"
   ]
  },
  {
   "cell_type": "code",
   "execution_count": 290,
   "id": "88479c62-184c-440c-b5ff-81149c9888e3",
   "metadata": {},
   "outputs": [
    {
     "name": "stdout",
     "output_type": "stream",
     "text": [
      "\u001b[92m(examplesᵇ=100)\u001b[0m \u001b[94m0.192 ± 0.197\u001b[0m \u001b[37m(7e-05...7e-01)\u001b[0m\n",
      "\u001b[92m(examplesᵇ=100)\u001b[0m \u001b[94m0.011 ± 0.013\u001b[0m \u001b[37m(1e-05...8e-02)\u001b[0m\n",
      "\u001b[92m(examplesᵇ=100)\u001b[0m \u001b[94m0.009 ± 0.025\u001b[0m \u001b[37m(3e-06...2e-01)\u001b[0m\n",
      "\u001b[92m(examplesᵇ=100)\u001b[0m \u001b[94m0.007 ± 0.013\u001b[0m \u001b[37m(6e-07...1e-01)\u001b[0m\n",
      "\u001b[92m(examplesᵇ=100)\u001b[0m \u001b[94m0.007 ± 0.041\u001b[0m \u001b[37m(1e-07...4e-01)\u001b[0m\n",
      "\u001b[92m(examplesᵇ=100)\u001b[0m \u001b[94m0.003 ± 0.010\u001b[0m \u001b[37m(3e-08...8e-02)\u001b[0m\n",
      "\u001b[92m(examplesᵇ=100)\u001b[0m \u001b[94m0.009 ± 0.047\u001b[0m \u001b[37m(5e-09...3e-01)\u001b[0m\n",
      "\u001b[92m(examplesᵇ=100)\u001b[0m \u001b[94m0.003 ± 0.019\u001b[0m \u001b[37m(9e-10...2e-01)\u001b[0m\n",
      "\u001b[92m(examplesᵇ=100)\u001b[0m \u001b[94m0.004 ± 0.034\u001b[0m \u001b[37m(1e-08...3e-01)\u001b[0m\n",
      "\u001b[92m(examplesᵇ=100)\u001b[0m \u001b[94m0.004 ± 0.033\u001b[0m \u001b[37m(6e-09...3e-01)\u001b[0m\n"
     ]
    }
   ],
   "source": [
    "for i in range(1000):\n",
    "  loss, _, _ = update_weights( net, optimizer, loss_function, math.random_normal(batch(examples=100)))\n",
    "  if i % 100 == 0:\n",
    "    print(loss)"
   ]
  },
  {
   "cell_type": "code",
   "execution_count": 291,
   "id": "2de8d4fa-5916-4351-bb45-5a32e49403fa",
   "metadata": {},
   "outputs": [
    {
     "data": {
      "text/plain": [
       "<Figure size 864x360 with 1 Axes>"
      ]
     },
     "execution_count": 291,
     "metadata": {},
     "output_type": "execute_result"
    },
    {
     "data": {
      "image/png": "[encoded data removed]",
      "text/plain": [
       "<Figure size 864x360 with 1 Axes>"
      ]
     },
     "metadata": {
      "needs_background": "light"
     },
     "output_type": "display_data"
    }
   ],
   "source": [
    "vis.plot(CenteredGrid(lambda x: math.stack(\n",
    "    {\"Prediction\": math.native_call(net, x), \n",
    "     \"Sin(x)\": math.sin(x.vector['x']) }, \n",
    "     channel('curve')), \n",
    "    x=100, bounds=Box(x=(-2,2))))"
   ]
  },
  {
   "cell_type": "code",
   "execution_count": 1,
   "id": "b05a86f1-83f0-4644-bc50-b24ee1119659",
   "metadata": {},
   "outputs": [],
   "source": [
    "# from phi.tf.flow import *\n",
    "from phi.torch.flow import *\n",
    "# from phi.jax.stax.flow import *"
   ]
  },
  {
   "cell_type": "markdown",
   "id": "18145393-5cb7-40a1-9303-4161c12a8ed7",
   "metadata": {},
   "source": [
    "# Contoh 2:\n",
    "\n",
    "## Projectile Motion \n",
    "\n",
    "* Traning dengan **fully-connected neural network**  untuk menyelesaikan masalah gerak peluru secara invers.\n",
    "* Penerapan **Differentiable physics training**, termasuk secara numerik dan visualisasinya. \n",
    "<hr>\n",
    "* Projectile motion: benda dilemparkan dengan **inisial posisi, ketinggian, kecepatan dan sudut elevasi**.\n",
    "* Asumsikan benda mengikuti gerak parabola dengan tanpa hambatan udara\n",
    "\n",
    "<center>\n",
    "<di>\n",
    "   <img src=\"peluru_h.png\" width=\"400\"/>\n",
    "</div>\n",
    "</center>\n",
    "$$ v_{0x} = v_0 \\cos(\\theta)$$\n",
    "$$ v_{0y} = v_0 \\sin(\\theta)$$\n",
    "\n",
    "$$ v_x = v_{0x}$$\n",
    "$$ x = v_{0x}t$$\n",
    "\n",
    "$$ v_y = v_{0y} -gt$$\n",
    "\n",
    "$$ y = h + v_{0y}t - \\tfrac{1}{2}gt^2$$\n",
    "\n",
    "Waktu hingga mencapai target di tanah $(x,0)$ :\n",
    "\n",
    "$$ t_{hit} = \\left (v_{0y} + \\sqrt{v_{0y}^2 + 2gh} \\right )/g$$\n"
   ]
  },
  {
   "cell_type": "code",
   "execution_count": 23,
   "id": "963fb32f-037b-4ea8-8faf-b8fb0efa3530",
   "metadata": {},
   "outputs": [
    {
     "data": {
      "text/plain": [
       "1.414"
      ]
     },
     "execution_count": 23,
     "metadata": {},
     "output_type": "execute_result"
    }
   ],
   "source": [
    "def simulate_hit(x_pos, h, v, theta, g=1.):\n",
    "    v_x, v_y = math.cos(theta) * v, math.sin(theta) * v\n",
    "    h = math.maximum(h, .5)\n",
    "    hit_time = (v_y + math.sqrt(v_y**2 + 2 * g * h)) / g\n",
    "    return x_pos + v_x * hit_time, hit_time, h, v_x, v_y\n",
    "\n",
    "np.round(simulate_hit(x_pos=tensor(10), h=1, v=1, theta=0)[1], 3)"
   ]
  },
  {
   "cell_type": "code",
   "execution_count": 4,
   "id": "70b0350a-cc43-4dc9-85ac-d9ed20cc43b4",
   "metadata": {},
   "outputs": [
    {
     "data": {
      "text/plain": [
       "0.529"
      ]
     },
     "execution_count": 4,
     "metadata": {},
     "output_type": "execute_result"
    }
   ],
   "source": [
    "np.round(simulate_hit(x_pos=tensor(10), h=1, v=1, theta=PI/4)[1], 3)"
   ]
  },
  {
   "cell_type": "markdown",
   "id": "42a241fa-fb17-47ec-8d3a-d5adc74c81d0",
   "metadata": {},
   "source": [
    "#### Grafik lintasan peluru dengan nilai awal $x=10$, $h=1$, $v=1$ dan $\\theta=\\pi/4$"
   ]
  },
  {
   "cell_type": "code",
   "execution_count": 24,
   "id": "4bfbba8a-5725-486a-a695-d8f07fc426ef",
   "metadata": {},
   "outputs": [],
   "source": [
    "def sample_trajectory(x_pos, h, v, theta, g=1.):\n",
    "    hit, hit_time, h, v_x, v_y = simulate_hit(x_pos, h, v, theta, g)\n",
    "    t = math.linspace(0, hit_time, spatial(t=100))\n",
    "    return vec(x=x_pos + v_x * t, y=h + v_y * t - g / 2 * t ** 2)"
   ]
  },
  {
   "cell_type": "code",
   "execution_count": 25,
   "id": "70105649-6898-445c-b868-d43a6820faa7",
   "metadata": {},
   "outputs": [
    {
     "data": {
      "text/plain": [
       "<Figure size 864x360 with 1 Axes>"
      ]
     },
     "execution_count": 25,
     "metadata": {},
     "output_type": "execute_result"
    },
    {
     "data": {
      "image/png": "[encoded data removed]",
      "text/plain": [
       "<Figure size 864x360 with 1 Axes>"
      ]
     },
     "metadata": {
      "needs_background": "light"
     },
     "output_type": "display_data"
    }
   ],
   "source": [
    "vis.plot(sample_trajectory(x_pos=tensor(10), h=1, v=1, theta=PI/4), title=\"Trajectory: angle = $\\pi/4$\")"
   ]
  },
  {
   "cell_type": "markdown",
   "id": "fda480cf-9fd5-453f-bfaa-c4e6a4723355",
   "metadata": {},
   "source": [
    "### Grafik lintasan dengan mevariasikan sudut $\\theta$"
   ]
  },
  {
   "cell_type": "code",
   "execution_count": 297,
   "id": "ab830bfb-6080-400e-b590-bd59f888fc97",
   "metadata": {},
   "outputs": [
    {
     "data": {
      "text/plain": [
       "\u001b[94m(-0.785, -0.404, -0.024, 0.357, 0.738, 1.119, 1.500)\u001b[0m along \u001b[92mthetaᶜ\u001b[0m"
      ]
     },
     "execution_count": 297,
     "metadata": {},
     "output_type": "execute_result"
    }
   ],
   "source": [
    "math.linspace(-PI/4, 1.5, channel(theta=7))"
   ]
  },
  {
   "cell_type": "code",
   "execution_count": 298,
   "id": "c517967c-4d8a-4573-8917-f9be0c46221e",
   "metadata": {},
   "outputs": [
    {
     "data": {
      "text/plain": [
       "array([-0.78539816, -0.40449847, -0.02359878,  0.35730092,  0.73820061,\n",
       "        1.11910031,  1.5       ])"
      ]
     },
     "execution_count": 298,
     "metadata": {},
     "output_type": "execute_result"
    }
   ],
   "source": [
    "np.linspace(-PI/4, 1.5, 7)"
   ]
  },
  {
   "cell_type": "code",
   "execution_count": 26,
   "id": "f9bf8f27-54b9-4521-9dac-54d84864719f",
   "metadata": {},
   "outputs": [
    {
     "data": {
      "text/plain": [
       "<Figure size 864x360 with 1 Axes>"
      ]
     },
     "execution_count": 26,
     "metadata": {},
     "output_type": "execute_result"
    },
    {
     "data": {
      "image/png": "[encoded data removed]",
      "text/plain": [
       "<Figure size 864x360 with 1 Axes>"
      ]
     },
     "metadata": {
      "needs_background": "light"
     },
     "output_type": "display_data"
    }
   ],
   "source": [
    "vis.plot(sample_trajectory(tensor(10), 1, 1, math.linspace(-PI/4, 1.5, channel(theta=7))), title=\"Variasi sudut\")"
   ]
  },
  {
   "cell_type": "code",
   "execution_count": 53,
   "id": "685f8db3-8653-489e-b1bc-08d74ae449e1",
   "metadata": {},
   "outputs": [
    {
     "data": {
      "text/plain": [
       "<Figure size 864x360 with 1 Axes>"
      ]
     },
     "execution_count": 53,
     "metadata": {},
     "output_type": "execute_result"
    },
    {
     "data": {
      "image/png": "[encoded data removed]",
      "text/plain": [
       "<Figure size 864x360 with 1 Axes>"
      ]
     },
     "metadata": {
      "needs_background": "light"
     },
     "output_type": "display_data"
    }
   ],
   "source": [
    "vis.plot(sample_trajectory(10, 1, 1, math.linspace(-PI/4, 1.5, channel(theta=7))), title=\"Variasi sudut\")"
   ]
  },
  {
   "cell_type": "markdown",
   "id": "981c841f-4859-4933-8c22-50b734a01c3d",
   "metadata": {},
   "source": [
    "#### Kita gunakan optimasi dengan **pengurangan gradient** pada kecepatan awal $v$.\n",
    "* Mendefinisikan **loss function** untuk dioptimalisasikan dengan target atau kita ingin benda supaya mengenai titik pada $x=0$.\n",
    "* Hitung automatic gradient untuk $v$.\n",
    "* Iterasi perhitungan di atas hingga konvergen (10x), lalu simpan $v$.\n",
    "* Plot grafik lintasanya per iterasi berdasarkan $v$ tersebut."
   ]
  },
  {
   "cell_type": "code",
   "execution_count": 52,
   "id": "9a118198-940c-4d2f-8cfc-d92e125b3289",
   "metadata": {},
   "outputs": [
    {
     "data": {
      "text/plain": [
       "\u001b[94m65.14213\u001b[0m"
      ]
     },
     "execution_count": 52,
     "metadata": {},
     "output_type": "execute_result"
    }
   ],
   "source": [
    "v = tensor(1)\n",
    "def loss_function(v):\n",
    "  return math.l2_loss( simulate_hit(10, 1, v, 0)[0] - 0.0) # target x=0.0\n",
    "\n",
    "loss_function(v)"
   ]
  },
  {
   "cell_type": "code",
   "execution_count": 49,
   "id": "b6db0f69-44e8-437c-b09a-227bf0738f52",
   "metadata": {},
   "outputs": [
    {
     "data": {
      "text/plain": [
       "(\u001b[94m65.14213\u001b[0m, [\u001b[94m16.142136\u001b[0m])"
      ]
     },
     "execution_count": 49,
     "metadata": {},
     "output_type": "execute_result"
    }
   ],
   "source": [
    "v = tensor(1)\n",
    "gradient = math.functional_gradient(loss_function, get_output=True)\n",
    "gradient(v)"
   ]
  },
  {
   "cell_type": "code",
   "execution_count": 50,
   "id": "3cb2f04e-cc25-4524-9c74-3e7cce2e50b4",
   "metadata": {},
   "outputs": [
    {
     "name": "stdout",
     "output_type": "stream",
     "text": [
      "vel=\u001b[94m-2.2284272\u001b[0m - loss=\u001b[94m65.14213\u001b[0m\n",
      "vel=\u001b[94m-4.1654835\u001b[0m - loss=\u001b[94m23.451168\u001b[0m\n",
      "vel=\u001b[94m-5.3277173\u001b[0m - loss=\u001b[94m8.442421\u001b[0m\n",
      "vel=\u001b[94m-6.0250573\u001b[0m - loss=\u001b[94m3.0392709\u001b[0m\n",
      "vel=\u001b[94m-6.4434614\u001b[0m - loss=\u001b[94m1.0941381\u001b[0m\n",
      "vel=\u001b[94m-6.694504\u001b[0m - loss=\u001b[94m0.39388976\u001b[0m\n",
      "vel=\u001b[94m-6.8451295\u001b[0m - loss=\u001b[94m0.14180061\u001b[0m\n",
      "vel=\u001b[94m-6.935505\u001b[0m - loss=\u001b[94m0.051048037\u001b[0m\n",
      "vel=\u001b[94m-6.9897304\u001b[0m - loss=\u001b[94m0.018377367\u001b[0m\n",
      "vel=\u001b[94m-7.0222654\u001b[0m - loss=\u001b[94m0.0066157645\u001b[0m\n",
      "vel=\u001b[94m-7.0417867\u001b[0m - loss=\u001b[94m0.0023817015\u001b[0m\n",
      "vel=\u001b[94m-7.053499\u001b[0m - loss=\u001b[94m0.00085737306\u001b[0m\n",
      "vel=\u001b[94m-7.060527\u001b[0m - loss=\u001b[94m0.00030866376\u001b[0m\n",
      "vel=\u001b[94m-7.064743\u001b[0m - loss=\u001b[94m0.00011110758\u001b[0m\n",
      "vel=\u001b[94m-7.067273\u001b[0m - loss=\u001b[94m4.000214e-05\u001b[0m\n"
     ]
    }
   ],
   "source": [
    "v = tensor(1)\n",
    "trj = [v] # list of velocity\n",
    "for i in range(15):\n",
    "    loss, (grad,) = gradient(v)\n",
    "    v = v - .2 * grad\n",
    "    trj.append(v)\n",
    "    print(f\"vel={v} - loss={loss}\")\n",
    "trj = math.stack(trj, channel('opt'))"
   ]
  },
  {
   "cell_type": "code",
   "execution_count": 51,
   "id": "faee8ef1-8014-4b9f-a721-d5ed4727b545",
   "metadata": {},
   "outputs": [
    {
     "data": {
      "text/plain": [
       "<Figure size 864x360 with 1 Axes>"
      ]
     },
     "execution_count": 51,
     "metadata": {},
     "output_type": "execute_result"
    },
    {
     "data": {
      "image/png": "[encoded data removed]",
      "text/plain": [
       "<Figure size 864x360 with 1 Axes>"
      ]
     },
     "metadata": {
      "needs_background": "light"
     },
     "output_type": "display_data"
    }
   ],
   "source": [
    "trj = math.stack(trj, channel('opt'))\n",
    "\n",
    "vis.plot(sample_trajectory(x_pos=tensor(10), h=1, v=trj, theta=0))"
   ]
  },
  {
   "cell_type": "markdown",
   "id": "b04de7d2-6b95-478c-8f41-94acdf63c0ff",
   "metadata": {},
   "source": [
    "Kita cukup mengurangi gradien dikalikan **learning rate** $\\eta = 0,2$ hingga konvergen."
   ]
  },
  {
   "cell_type": "markdown",
   "id": "bb0e4437-c0c4-4afd-a409-7450a67cbc96",
   "metadata": {},
   "source": [
    "#### Kita buat <i> data set</i> untuk <i>training dan test</i> dengan sampling secara random."
   ]
  },
  {
   "cell_type": "code",
   "execution_count": 54,
   "id": "7f7024c7-5a6e-4072-a180-6dfc48bf4098",
   "metadata": {},
   "outputs": [],
   "source": [
    "def generate_data(shape):\n",
    "  pos = math.random_normal(shape)\n",
    "  h = math.random_uniform(shape) + .5\n",
    "  v = math.random_uniform(shape)\n",
    "  theta = math.random_uniform(shape) * PI/2\n",
    "  return math.stack(dict(pos=pos, h=h, v=v, theta=theta), channel('vector'))\n",
    "\n",
    "x_train = generate_data(batch(examples=1000))\n",
    "x_test = generate_data(batch(examples=1000))"
   ]
  },
  {
   "cell_type": "code",
   "execution_count": 55,
   "id": "a500cf24-56a6-42d7-b0e4-55e59c54a9cb",
   "metadata": {},
   "outputs": [
    {
     "data": {
      "text/plain": [
       "\u001b[92m(examplesᵇ=1000, vectorᶜ=pos,h,v,theta)\u001b[0m \u001b[94m0.565 ± 0.693\u001b[0m \u001b[37m(-3e+00...3e+00)\u001b[0m"
      ]
     },
     "execution_count": 55,
     "metadata": {},
     "output_type": "execute_result"
    }
   ],
   "source": [
    "x_train"
   ]
  },
  {
   "cell_type": "code",
   "execution_count": 56,
   "id": "04938d1b-5099-4fc0-9c3a-30e254fc9ec0",
   "metadata": {},
   "outputs": [],
   "source": [
    "y_train = simulate_hit(*x_train.vector)[0] # hanya diambil array posisi saja [0]\n",
    "y_test = simulate_hit(*x_test.vector)[0]"
   ]
  },
  {
   "cell_type": "code",
   "execution_count": 57,
   "id": "06855767-5af1-463e-8c9e-5988a046236f",
   "metadata": {},
   "outputs": [
    {
     "data": {
      "text/plain": [
       "\u001b[92m(examplesᵇ=1000)\u001b[0m \u001b[94m0.579 ± 1.103\u001b[0m \u001b[37m(-3e+00...4e+00)\u001b[0m"
      ]
     },
     "execution_count": 57,
     "metadata": {},
     "output_type": "execute_result"
    }
   ],
   "source": [
    "y_train"
   ]
  },
  {
   "cell_type": "code",
   "execution_count": 58,
   "id": "8709f49f-49e9-43d7-8865-80f6d730b1c5",
   "metadata": {},
   "outputs": [
    {
     "data": {
      "text/plain": [
       "\u001b[92m(examplesᵇ=1000)\u001b[0m \u001b[94m0.519 ± 1.092\u001b[0m \u001b[37m(-3e+00...4e+00)\u001b[0m"
      ]
     },
     "execution_count": 58,
     "metadata": {},
     "output_type": "execute_result"
    }
   ],
   "source": [
    "y_test"
   ]
  },
  {
   "cell_type": "markdown",
   "id": "53e6929f-3dfd-4b90-ab44-e326df627c33",
   "metadata": {},
   "source": [
    "* Kita buat jaringan NN dengan spesifikasi: **fully-connected neural network with three hidden layers**. \n",
    "* Kita reset `seed` untuk membuat inisialisasi dapat diprediksi untuk proses **differentiable physics**.\n"
   ]
  },
  {
   "cell_type": "code",
   "execution_count": 59,
   "id": "2a64991e-7172-4f0c-9770-b9b96eefb4b8",
   "metadata": {},
   "outputs": [
    {
     "data": {
      "text/plain": [
       "DenseNet(\n",
       "  (linear0): Linear(in_features=1, out_features=32, bias=True)\n",
       "  (linear1): Linear(in_features=32, out_features=64, bias=True)\n",
       "  (linear2): Linear(in_features=64, out_features=32, bias=True)\n",
       "  (linear_out): Linear(in_features=32, out_features=4, bias=True)\n",
       ")"
      ]
     },
     "execution_count": 59,
     "metadata": {},
     "output_type": "execute_result"
    }
   ],
   "source": [
    "math.seed(0)\n",
    "net_dp = dense_net(1, 4, [32, 64, 32])\n",
    "net_dp"
   ]
  },
  {
   "cell_type": "code",
   "execution_count": 60,
   "id": "8eda6a68-de3c-4e67-bb88-0a2d2633b8f9",
   "metadata": {},
   "outputs": [
    {
     "data": {
      "text/plain": [
       "tensor([-0.6542,  0.5716,  0.7903, -0.5744,  0.1061, -0.6293, -0.7108, -0.4710,\n",
       "         0.0592, -0.3536,  0.5229, -0.2222, -0.7993, -0.1303,  0.8143, -0.6252,\n",
       "        -0.7414,  0.3269,  0.8907,  0.8065, -0.1426,  0.3292,  0.0838,  0.5791,\n",
       "        -0.0625,  0.8835, -0.2930, -0.7720,  0.8459, -0.5473, -0.4526, -0.8203])"
      ]
     },
     "execution_count": 60,
     "metadata": {},
     "output_type": "execute_result"
    }
   ],
   "source": [
    "# net_sup.trainable_weights[0]  # TensorFlow\n",
    "net_dp.state_dict()['linear0.weight'].flatten()  # PyTorch\n",
    "# net_sup.parameters[0][0]  # Stax"
   ]
  },
  {
   "cell_type": "code",
   "execution_count": 61,
   "id": "6709bf57-fd4e-4d6d-b2b3-aa2172a8d6d9",
   "metadata": {},
   "outputs": [
    {
     "data": {
      "text/plain": [
       "<bound method Module.parameters of DenseNet(\n",
       "  (linear0): Linear(in_features=1, out_features=32, bias=True)\n",
       "  (linear1): Linear(in_features=32, out_features=64, bias=True)\n",
       "  (linear2): Linear(in_features=64, out_features=32, bias=True)\n",
       "  (linear_out): Linear(in_features=32, out_features=4, bias=True)\n",
       ")>"
      ]
     },
     "execution_count": 61,
     "metadata": {},
     "output_type": "execute_result"
    }
   ],
   "source": [
    "net_dp.parameters"
   ]
  },
  {
   "cell_type": "markdown",
   "id": "5fd87b94-32d5-4724-ac76-62e0f6917d6e",
   "metadata": {},
   "source": [
    "* We see that the networks were initialized identically! \n",
    "* Alternatively, we could have saved and loaded the state."
   ]
  },
  {
   "cell_type": "code",
   "execution_count": 64,
   "id": "7f28b979-ea1c-47a0-bc5b-eab7b132690d",
   "metadata": {},
   "outputs": [
    {
     "name": "stdout",
     "output_type": "stream",
     "text": [
      "\u001b[92m(examplesᵇ=1000)\u001b[0m \u001b[94m5.13e-04 ± 1.3e-03\u001b[0m \u001b[37m(1e-09...3e-02)\u001b[0m\n",
      "\u001b[92m(examplesᵇ=1000)\u001b[0m \u001b[94m5.96e-04 ± 1.8e-03\u001b[0m \u001b[37m(1e-12...4e-02)\u001b[0m\n",
      "\u001b[92m(examplesᵇ=1000)\u001b[0m \u001b[94m7.51e-05 ± 1.1e-04\u001b[0m \u001b[37m(3e-10...1e-03)\u001b[0m\n",
      "\u001b[92m(examplesᵇ=1000)\u001b[0m \u001b[94m3.58e-05 ± 5.6e-05\u001b[0m \u001b[37m(8e-10...6e-04)\u001b[0m\n",
      "\u001b[92m(examplesᵇ=1000)\u001b[0m \u001b[94m1.71e-05 ± 6.1e-05\u001b[0m \u001b[37m(6e-12...2e-03)\u001b[0m\n",
      "\u001b[92m(examplesᵇ=1000)\u001b[0m \u001b[94m1.32e-05 ± 6.4e-05\u001b[0m \u001b[37m(4e-11...2e-03)\u001b[0m\n",
      "\u001b[92m(examplesᵇ=1000)\u001b[0m \u001b[94m1.04e-05 ± 5.2e-05\u001b[0m \u001b[37m(3e-12...1e-03)\u001b[0m\n",
      "\u001b[92m(examplesᵇ=1000)\u001b[0m \u001b[94m8.20e-06 ± 4.5e-05\u001b[0m \u001b[37m(6e-12...1e-03)\u001b[0m\n",
      "\u001b[92m(examplesᵇ=1000)\u001b[0m \u001b[94m6.64e-06 ± 3.6e-05\u001b[0m \u001b[37m(1e-13...1e-03)\u001b[0m\n",
      "\u001b[92m(examplesᵇ=1000)\u001b[0m \u001b[94m5.50e-06 ± 3.0e-05\u001b[0m \u001b[37m(3e-13...8e-04)\u001b[0m\n",
      "Diff.Phys. network (training set): \u001b[92m(examplesᵇ=1000)\u001b[0m \u001b[94m4.57e-06 ± 2.5e-05\u001b[0m \u001b[37m(2e-12...7e-04)\u001b[0m\n",
      "Diff.Phys. network (test set): \u001b[92m(examplesᵇ=1000)\u001b[0m \u001b[94m1.12e-05 ± 2.1e-04\u001b[0m \u001b[37m(6e-12...7e-03)\u001b[0m\n"
     ]
    }
   ],
   "source": [
    "# @math.jit_compile\n",
    "def physics_loss(y, net=net_dp):\n",
    "  prediction = math.native_call(net, y)\n",
    "  y_sim = simulate_hit(*prediction.vector)[0]\n",
    "  return math.l2_loss(y_sim - y)\n",
    "\n",
    "optimizer_dp = adam(net_dp)\n",
    "\n",
    "for i in range(200):\n",
    "#  update_weights(net_dp, opt_dp, physics_loss, y_train)\n",
    "    loss = update_weights(net_dp, optimizer_dp, physics_loss, y_train)\n",
    "    if i % 20 == 0:\n",
    "        print(loss)\n",
    "\n",
    "print(f\"Diff.Phys. network (training set): {physics_loss(y_train, net=net_dp)}\")\n",
    "print(f\"Diff.Phys. network (test set): {physics_loss(y_test, net=net_dp)}\")"
   ]
  },
  {
   "cell_type": "markdown",
   "id": "b42e6024-ea78-4810-8076-d28d3f262e6f",
   "metadata": {},
   "source": [
    "### Training with Differentiable Physics\n",
    "\n",
    "* **Differentiable physics loss**: mensimulasikan lintasan berdasarkan kondisi awal yang diprediksi oleh jaringan.\n",
    "* Kemudian kita dapat mengukur **seberapa dekat antara hasil dari network tersebut dengan lokasi yang diinginkan**.\n",
    "\n",
    "* Hasilnya sangat bagus. <i>Differentiable physics network</i> lintasan akan mencapai lokasi yang diinginkan dengan sangat akurat, padahal hanya dilatih untuk **100 iterasi.**\n",
    "* Dengan lebih banyak iterasi **training**, **loss** akan semakin berkurang.\n",
    "* Differentiable physics network, sepenuhnya mengabaikan solusi **the ground truth** yang bahkan tidak diteruskan ke fungsi `physics_loss`. Sebaliknya, ia belajar untuk mencapai titik yang diinginkan dengan sangat tepat, sesuai yang kita inginkan.  "
   ]
  },
  {
   "cell_type": "markdown",
   "id": "37af69be-0518-4ce8-9ed1-de0b85232aac",
   "metadata": {},
   "source": [
    "#### Visualisasikan beberapa lintasan terhadap Target (Ground Truth dan Diff.Phys)."
   ]
  },
  {
   "cell_type": "code",
   "execution_count": 65,
   "id": "895ec8b8-12fc-4488-88a3-7e948614127c",
   "metadata": {},
   "outputs": [
    {
     "name": "stdout",
     "output_type": "stream",
     "text": [
      "Diff.Phys. network (training set): \u001b[92m(examplesᵇ=1000)\u001b[0m \u001b[94m4.57e-06 ± 2.5e-05\u001b[0m \u001b[37m(2e-12...7e-04)\u001b[0m\n",
      "Diff.Phys. network (test set): \u001b[92m(examplesᵇ=1000)\u001b[0m \u001b[94m1.12e-05 ± 2.1e-04\u001b[0m \u001b[37m(6e-12...7e-03)\u001b[0m\n"
     ]
    },
    {
     "data": {
      "text/plain": [
       "<Figure size 1152x288 with 4 Axes>"
      ]
     },
     "execution_count": 65,
     "metadata": {},
     "output_type": "execute_result"
    },
    {
     "data": {
      "image/png": "[encoded data removed]",
      "text/plain": [
       "<Figure size 1152x288 with 4 Axes>"
      ]
     },
     "metadata": {
      "needs_background": "light"
     },
     "output_type": "display_data"
    }
   ],
   "source": [
    "print(f\"Diff.Phys. network (training set): {physics_loss(y_train, net=net_dp)}\")\n",
    "print(f\"Diff.Phys. network (test set): {physics_loss(y_test, net=net_dp)}\")\n",
    "\n",
    "predictions = math.stack({\n",
    "    \"Ground Truth\": x_test.examples[:4],\n",
    "    \"Diff.Phys\": math.native_call(net_dp, y_test.examples[:4]),\n",
    "}, channel('curves'))\n",
    "\n",
    "vis.plot(sample_trajectory(*predictions.vector), size=(16, 4))"
   ]
  },
  {
   "cell_type": "markdown",
   "id": "9cc7bc11-ef3e-441e-8589-d8b0bceefa2f",
   "metadata": {},
   "source": [
    "#### Nampak bahwa jaringan NN 'fisika terdiferensiasi (differentiable physics network)' sangat akurat dalam memprediksi **titik target** seperti yang diharapkan dari simulasi sebenarnya dengan optimalisai 'nilai kerugian (loss)'.\n"
   ]
  },
  {
   "cell_type": "markdown",
   "id": "96dbabcb-3ff1-4ea2-8498-322d945c6611",
   "metadata": {},
   "source": [
    "# Contoh 3"
   ]
  },
  {
   "cell_type": "code",
   "execution_count": 12,
   "id": "1a0fd563-f5fd-4c1b-ac40-bd70c23c8511",
   "metadata": {},
   "outputs": [
    {
     "name": "stdout",
     "output_type": "stream",
     "text": [
      "[Taichi] version 1.6.0, llvm 15.0.7, commit f1c6fbbd, osx, python 3.9.16\n",
      "[Taichi] Starting on arch=arm64\n"
     ]
    }
   ],
   "source": [
    "import taichi as ti\n",
    "ti.init()"
   ]
  },
  {
   "cell_type": "code",
   "execution_count": 13,
   "id": "1c3e652f-630d-4e56-8ac4-9a19f733f073",
   "metadata": {},
   "outputs": [],
   "source": [
    "N = 8\n",
    "dt = 1e-5\n",
    "\n",
    "x = ti.Vector.field(2, dtype=ti.f32, shape=N, needs_grad=True)  # particle positions\n",
    "v = ti.Vector.field(2, dtype=ti.f32, shape=N)  # particle velocities\n",
    "U = ti.field(dtype=ti.f32, shape=(), needs_grad=True)  # potential energy"
   ]
  },
  {
   "cell_type": "code",
   "execution_count": 14,
   "id": "b8997025-91b3-43f1-a9dd-d41e13ae396e",
   "metadata": {},
   "outputs": [],
   "source": [
    "@ti.kernel\n",
    "def compute_U():\n",
    "    for i, j in ti.ndrange(N, N):\n",
    "        r = x[i] - x[j]\n",
    "        # r.norm(1e-3) is equivalent to ti.sqrt(r.norm()**2 + 1e-3)\n",
    "        # This is to prevent 1/0 error which can cause wrong derivative\n",
    "        U[None] += -1 / r.norm(1e-3)  # U += -1 / |r|\n"
   ]
  },
  {
   "cell_type": "code",
   "execution_count": 15,
   "id": "fd5f44cd-54c1-40f0-91ee-52cd883df6fe",
   "metadata": {},
   "outputs": [],
   "source": [
    "@ti.kernel\n",
    "def advance():\n",
    "    for i in x:\n",
    "        v[i] += dt * -x.grad[i]  # dv/dt = -dU/dx\n",
    "    for i in x:\n",
    "        x[i] += dt * v[i]  # dx/dt = v"
   ]
  },
  {
   "cell_type": "code",
   "execution_count": 16,
   "id": "7da9d968-d778-48dd-83ff-1b06110fa1cc",
   "metadata": {},
   "outputs": [],
   "source": [
    "def substep():\n",
    "    with ti.ad.Tape(loss=U):\n",
    "        # Kernel invocations in this scope will later contribute to partial derivatives of\n",
    "        # U with respect to input variables such as x.\n",
    "        compute_U(\n",
    "        )  # The tape will automatically compute dU/dx and save the results in x.grad\n",
    "    advance()"
   ]
  },
  {
   "cell_type": "code",
   "execution_count": 17,
   "id": "e2029cdc-05af-48e3-88df-77f5bac06e18",
   "metadata": {},
   "outputs": [],
   "source": [
    "@ti.kernel\n",
    "def init():\n",
    "    for i in x:\n",
    "        x[i] = [ti.random(), ti.random()]"
   ]
  },
  {
   "cell_type": "code",
   "execution_count": 19,
   "id": "4d31389f-877e-4d2d-bbaf-641980db80ba",
   "metadata": {},
   "outputs": [],
   "source": [
    "init()\n",
    "gui = ti.GUI('Autodiff gravity')\n",
    "# gui = ti.ui.Window('Autodiff gravity', res=(400, 400))\n",
    "while gui.running:\n",
    "    for i in range(50):\n",
    "        substep()\n",
    "    gui.circles(x.to_numpy(), radius=3)\n",
    "    gui.show()\n",
    "gui.close()"
   ]
  },
  {
   "cell_type": "markdown",
   "id": "308e94f3-9a49-47b3-88d1-3063b8b1c813",
   "metadata": {},
   "source": [
    "# Contoh 4"
   ]
  },
  {
   "cell_type": "code",
   "execution_count": 20,
   "id": "d04ae636-4cf9-4110-af72-36d4e1f881af",
   "metadata": {},
   "outputs": [
    {
     "name": "stdout",
     "output_type": "stream",
     "text": [
      "pygame 2.5.2 (SDL 2.28.3, Python 3.9.16)\n",
      "Hello from the pygame community. https://www.pygame.org/contribute.html\n"
     ]
    }
   ],
   "source": [
    "import pygame\n",
    "import math\n",
    "import sys"
   ]
  },
  {
   "cell_type": "code",
   "execution_count": 21,
   "id": "759082b9-7b8d-4c41-b1ed-7a027f0adbb2",
   "metadata": {},
   "outputs": [],
   "source": [
    "pygame.init()\n",
    "WIDTH, HEIGHT =  800, 800\n",
    "WIN = pygame.display.set_mode((WIDTH, HEIGHT))\n",
    "pygame.display.set_caption(\"Planet Simulation\")\n",
    "\n",
    "WHITE = (255, 255, 255)\n",
    "YELLOW = (255, 255, 0)\n",
    "BLUE = (100, 149, 237)\n",
    "RED = (188, 39, 50)\n",
    "DARK_GREY = (80, 78, 81)\n",
    "\n",
    "FONT = pygame.font.SysFont(\"comicsans\", 16)"
   ]
  },
  {
   "cell_type": "code",
   "execution_count": 23,
   "id": "e369fa7a-f6b1-4677-a985-fb8153f6b7d7",
   "metadata": {},
   "outputs": [],
   "source": [
    "# OOP\n",
    "class Planet:\n",
    "\tAU = 149.6e6 * 1000\n",
    "\tG = 6.67428e-11\n",
    "\tSCALE = 250 / AU  # 1AU = 100 pixels\n",
    "\tTIMESTEP = 3600*24 # 1 day\n",
    "\n",
    "\tdef __init__(self, x, y, radius, color, mass):\n",
    "\t\tself.x = x\n",
    "\t\tself.y = y\n",
    "\t\tself.radius = radius\n",
    "\t\tself.color = color\n",
    "\t\tself.mass = mass\n",
    "\n",
    "\t\tself.orbit = []\n",
    "\t\tself.sun = False\n",
    "\t\tself.distance_to_sun = 0\n",
    "\n",
    "\t\tself.x_vel = 0\n",
    "\t\tself.y_vel = 0\n",
    "\n",
    "\tdef draw(self, win):\n",
    "\t\tx = self.x * self.SCALE + WIDTH / 2\n",
    "\t\ty = self.y * self.SCALE + HEIGHT / 2\n",
    "\n",
    "\t\tif len(self.orbit) > 2:\n",
    "\t\t\tupdated_points = []\n",
    "\t\t\tfor point in self.orbit:\n",
    "\t\t\t\tx, y = point\n",
    "\t\t\t\tx = x * self.SCALE + WIDTH / 2\n",
    "\t\t\t\ty = y * self.SCALE + HEIGHT / 2\n",
    "\t\t\t\tupdated_points.append((x, y))\n",
    "\n",
    "\t\t\tpygame.draw.lines(win, self.color, False, updated_points, 2)\n",
    "\n",
    "\t\tpygame.draw.circle(win, self.color, (x, y), self.radius)\n",
    "\t\t\n",
    "\t\tif not self.sun:\n",
    "\t\t\tdistance_text = FONT.render(f\"{round(self.distance_to_sun/1000, 1)}km\", 1, WHITE)\n",
    "\t\t\twin.blit(distance_text, (x - distance_text.get_width()/2, y - distance_text.get_height()/2))\n",
    "\n",
    "\tdef attraction(self, other):\n",
    "\t\tother_x, other_y = other.x, other.y\n",
    "\t\tdistance_x = other_x - self.x\n",
    "\t\tdistance_y = other_y - self.y\n",
    "\t\tdistance = math.sqrt(distance_x ** 2 + distance_y ** 2)\n",
    "\n",
    "\t\tif other.sun:\n",
    "\t\t\tself.distance_to_sun = distance\n",
    "\n",
    "\t\tforce = self.G * self.mass * other.mass / distance**2\n",
    "\t\ttheta = math.atan2(distance_y, distance_x)\n",
    "\t\tforce_x = math.cos(theta) * force\n",
    "\t\tforce_y = math.sin(theta) * force\n",
    "\t\treturn force_x, force_y\n",
    "\n",
    "\tdef update_position(self, planets):\n",
    "\t\ttotal_fx = total_fy = 0\n",
    "\t\tfor planet in planets:\n",
    "\t\t\tif self == planet:\n",
    "\t\t\t\tcontinue\n",
    "\n",
    "\t\t\tfx, fy = self.attraction(planet)\n",
    "\t\t\ttotal_fx += fx\n",
    "\t\t\ttotal_fy += fy\n",
    "\n",
    "        # Euler Methode\n",
    "\t\tself.x_vel += total_fx / self.mass * self.TIMESTEP\n",
    "\t\tself.y_vel += total_fy / self.mass * self.TIMESTEP\n",
    "\n",
    "\t\tself.x += self.x_vel * self.TIMESTEP\n",
    "\t\tself.y += self.y_vel * self.TIMESTEP\n",
    "\t\tself.orbit.append((self.x, self.y))"
   ]
  },
  {
   "cell_type": "code",
   "execution_count": 24,
   "id": "c4a1b007-9dac-437d-9463-e465efbe1baa",
   "metadata": {},
   "outputs": [],
   "source": [
    "def main():\n",
    "    run = True\n",
    "    clock = pygame.time.Clock()\n",
    "\n",
    "    sun = Planet(0, 0, 30, YELLOW, 1.98892 * 10 ** 30)\n",
    "    sun.sun = True\n",
    "\n",
    "    earth = Planet(-1 * Planet.AU, 0, 16, BLUE, 5.9742 * 10 ** 24)\n",
    "    earth.y_vel = 29.783 * 1000\n",
    "\n",
    "    mars = Planet(-1.524 * Planet.AU, 0, 12, RED, 6.39 * 10 ** 23)\n",
    "    mars.y_vel = 24.077 * 1000\n",
    "\n",
    "    mercury = Planet(0.387 * Planet.AU, 0, 8, DARK_GREY, 3.30 * 10 ** 23)\n",
    "    mercury.y_vel = -47.4 * 1000\n",
    "\n",
    "    venus = Planet(0.723 * Planet.AU, 0, 14, WHITE, 4.8685 * 10 ** 24)\n",
    "    venus.y_vel = -35.02 * 1000\n",
    "\n",
    "    planets = [sun, earth, mars, mercury, venus]\n",
    "\n",
    "    while run:\n",
    "        clock.tick(60)\n",
    "        WIN.fill((0, 0, 0))\n",
    "\n",
    "        for event in pygame.event.get():\n",
    "            if event.type == pygame.QUIT:\n",
    "                run = False\n",
    "\n",
    "        for planet in planets:\n",
    "            planet.update_position(planets)\n",
    "            planet.draw(WIN)\n",
    "\n",
    "        pygame.display.update()\n",
    "\n",
    "    pygame.quit()\n",
    "    sys.exit()"
   ]
  },
  {
   "cell_type": "code",
   "execution_count": null,
   "id": "78a12c1f",
   "metadata": {},
   "outputs": [],
   "source": []
  },
  {
   "cell_type": "code",
   "execution_count": 25,
   "id": "21b3ca00-249a-491c-8c02-16112c35ed87",
   "metadata": {},
   "outputs": [
    {
     "ename": "SystemExit",
     "evalue": "",
     "output_type": "error",
     "traceback": [
      "An exception has occurred, use %tb to see the full traceback.\n",
      "\u001b[0;31mSystemExit\u001b[0m\n"
     ]
    },
    {
     "name": "stderr",
     "output_type": "stream",
     "text": [
      "/Users/macbook/miniconda3/envs/torch-gpu/lib/python3.9/site-packages/IPython/core/interactiveshell.py:3516: UserWarning: To exit: use 'exit', 'quit', or Ctrl-D.\n",
      "  warn(\"To exit: use 'exit', 'quit', or Ctrl-D.\", stacklevel=1)\n"
     ]
    }
   ],
   "source": [
    "main()"
   ]
  },
  {
   "cell_type": "markdown",
   "id": "ea2781c9-0637-498f-8e87-05e8fdda9abf",
   "metadata": {},
   "source": [
    "# Contoh 5"
   ]
  },
  {
   "cell_type": "markdown",
   "id": "8b400ec3-9f6e-4189-bf5f-1402cf43e1c2",
   "metadata": {},
   "source": [
    "### Gaya Lorentz: Gerak Muatan dalam Medan Listrik dan Magnet\n",
    "##\n",
    "\n",
    "<div>\n",
    "\n",
    "   <img src=\"lorentz.png\" width=\"400\"/>\n",
    "\n",
    "</div>\n",
    "\n",
    "###\n",
    "\n",
    "$$\\textbf{F}= q\\left [\\textbf{E} + \\left(\\textbf{v} \\times \\textbf{B} \\right) \\right ]$$\n",
    "\n",
    "dengan medan listrik $\\textbf{E} = E_x \\hat{x}+ E_y\\hat{y}+ E_z\\hat{z}$, kecepatan partikel $ \\textbf{v} = v_x \\hat{x}+ v_y\\hat{y}$ dan medan magnet homogin $ \\textbf{B} = B_z\\hat{z}$, maka\n",
    "\n",
    "$$\\omega = \\left (\\frac{q}{m}\\right) B_z $$\n",
    "\n",
    "$$ a_x = \\left(\\frac{q}{m} \\right) E_x + \\omega \\; v_y$$\n",
    "\n",
    "$$ a_y = \\left(\\frac{q}{m} \\right) E_y - \\omega \\; v_x$$\n",
    "\n",
    "$$ a_z = \\left (\\frac{q}{m}\\right) E_z $$"
   ]
  },
  {
   "cell_type": "code",
   "execution_count": 2,
   "id": "f4e52441-ec18-4028-a363-d5f9ea51cf55",
   "metadata": {},
   "outputs": [],
   "source": [
    "# for creating a responsive plot\n",
    "%matplotlib widget\n",
    "\n",
    "from mpl_toolkits.mplot3d import Axes3D  # noqa: F401 unused import\n",
    "import numpy as np\n",
    "import matplotlib.pylab as plt\n",
    "import sympy as smp"
   ]
  },
  {
   "cell_type": "code",
   "execution_count": 3,
   "id": "4f70f5bf-12ba-4258-8de9-cefca7a96528",
   "metadata": {},
   "outputs": [
    {
     "data": {
      "text/latex": [
       "$\\displaystyle \\frac{B_{z} q}{m}$"
      ],
      "text/plain": [
       "B_z*q/m"
      ]
     },
     "execution_count": 3,
     "metadata": {},
     "output_type": "execute_result"
    }
   ],
   "source": [
    "t, q, m, Ex, Ey, Ez, Bz, omega = smp.symbols(\"t, q, m, E_x, E_y, E_z, B_z, omega\", positive=True)\n",
    "x = smp.Function(\"x\")\n",
    "y = smp.Function(\"y\")\n",
    "z = smp.Function(\"z\")\n",
    "omega = q/m*Bz\n",
    "omega"
   ]
  },
  {
   "cell_type": "code",
   "execution_count": 4,
   "id": "39338ac5-638f-4763-8a10-1fddcce3ea92",
   "metadata": {},
   "outputs": [
    {
     "data": {
      "text/latex": [
       "$\\displaystyle - \\frac{B_{z} q \\frac{d}{d t} y{\\left(t \\right)}}{m} - \\frac{E_{x} q}{m} + \\frac{d^{2}}{d t^{2}} x{\\left(t \\right)}$"
      ],
      "text/plain": [
       "-B_z*q*Derivative(y(t), t)/m - E_x*q/m + Derivative(x(t), (t, 2))"
      ]
     },
     "execution_count": 4,
     "metadata": {},
     "output_type": "execute_result"
    }
   ],
   "source": [
    "ode_x = x(t).diff(t, 2) - omega * y(t).diff(t) - (q/m)*Ex\n",
    "ode_x"
   ]
  },
  {
   "cell_type": "code",
   "execution_count": 5,
   "id": "0f25a1b0-9d93-4dbe-b136-e34255eb6d4b",
   "metadata": {},
   "outputs": [
    {
     "data": {
      "text/latex": [
       "$\\displaystyle \\frac{B_{z} q \\frac{d}{d t} x{\\left(t \\right)}}{m} - \\frac{E_{y} q}{m} + \\frac{d^{2}}{d t^{2}} y{\\left(t \\right)}$"
      ],
      "text/plain": [
       "B_z*q*Derivative(x(t), t)/m - E_y*q/m + Derivative(y(t), (t, 2))"
      ]
     },
     "execution_count": 5,
     "metadata": {},
     "output_type": "execute_result"
    }
   ],
   "source": [
    "ode_y = y(t).diff(t, 2) + omega * x(t).diff(t) - (q/m)*Ey\n",
    "ode_y"
   ]
  },
  {
   "cell_type": "code",
   "execution_count": 6,
   "id": "4a47224f-e7c0-4285-97da-3ee14e497820",
   "metadata": {},
   "outputs": [
    {
     "data": {
      "text/latex": [
       "$\\displaystyle - \\frac{E_{z} q}{m} + \\frac{d^{2}}{d t^{2}} z{\\left(t \\right)}$"
      ],
      "text/plain": [
       "-E_z*q/m + Derivative(z(t), (t, 2))"
      ]
     },
     "execution_count": 6,
     "metadata": {},
     "output_type": "execute_result"
    }
   ],
   "source": [
    "ode_z = z(t).diff(t, 2) - (q/m)*Ez\n",
    "ode_z"
   ]
  },
  {
   "cell_type": "code",
   "execution_count": 7,
   "id": "e7e36437-a15a-4b0b-8df1-3a3802e841ee",
   "metadata": {},
   "outputs": [
    {
     "data": {
      "text/latex": [
       "$\\displaystyle x{\\left(t \\right)} = C_{1} + \\frac{E_{x} q t^{2}}{m} + t \\left(\\frac{B_{z} q y{\\left(t \\right)}}{m} + C_{2}\\right) - \\frac{q \\int t \\left(B_{z} \\frac{d}{d t} y{\\left(t \\right)} + E_{x}\\right)\\, dt}{m}$"
      ],
      "text/plain": [
       "Eq(x(t), C1 + E_x*q*t**2/m + t*(B_z*q*y(t)/m + C2) - q*Integral(t*(B_z*Derivative(y(t), t) + E_x), t)/m)"
      ]
     },
     "execution_count": 7,
     "metadata": {},
     "output_type": "execute_result"
    }
   ],
   "source": [
    "sol_ode_x = smp.dsolve(ode_x, x(t)) # solusi umum\n",
    "sol_ode_x"
   ]
  },
  {
   "cell_type": "code",
   "execution_count": 8,
   "id": "7c971510-f825-4f6f-a830-070e8c525acb",
   "metadata": {},
   "outputs": [
    {
     "data": {
      "text/latex": [
       "$\\displaystyle x{\\left(t \\right)} = \\frac{E_{x} q t^{2}}{m} + t \\left(\\frac{B_{z} q y{\\left(t \\right)}}{m} + \\frac{- B_{z} q y{\\left(0 \\right)} + m}{m}\\right) - \\frac{q \\int t \\left(B_{z} \\frac{d}{d t} y{\\left(t \\right)} + E_{x}\\right)\\, dt}{m} + \\frac{q \\int\\limits^{0} E_{x} t\\, dt + q \\int\\limits^{0} B_{z} t \\frac{d}{d t} y{\\left(t \\right)}\\, dt}{m}$"
      ],
      "text/plain": [
       "Eq(x(t), E_x*q*t**2/m + t*(B_z*q*y(t)/m + (-B_z*q*y(0) + m)/m) - q*Integral(t*(B_z*Derivative(y(t), t) + E_x), t)/m + (q*Integral(E_x*t, (t, 0)) + q*Integral(B_z*t*Derivative(y(t), t), (t, 0)))/m)"
      ]
     },
     "execution_count": 8,
     "metadata": {},
     "output_type": "execute_result"
    }
   ],
   "source": [
    "sol_ode_x_khusus = smp.dsolve(ode_x,x(t), ics={x(0): 0, x(t).diff(t).subs(t, 0): 1}) # solusi khusus\n",
    "sol_ode_x_khusus"
   ]
  },
  {
   "cell_type": "code",
   "execution_count": 9,
   "id": "22f7f553-71ca-4a1f-af1b-b4db9d517f52",
   "metadata": {},
   "outputs": [
    {
     "data": {
      "text/plain": [
       "[Eq(x(t), E_y*t/B_z + m/(B_z*q) + E_x*m*sin(B_z*q*t/m)**2/(B_z**2*q) + E_x*m*cos(B_z*q*t/m)**2/(B_z**2*q) - m*(B_z + E_x)*cos(B_z*q*t/m)/(B_z**2*q) + m*(B_z - E_y)*sin(B_z*q*t/m)/(B_z**2*q)),\n",
       " Eq(y(t), -E_x*t/B_z - m/(B_z*q) + E_y*m*sin(B_z*q*t/m)**2/(B_z**2*q) + E_y*m*cos(B_z*q*t/m)**2/(B_z**2*q) + m*(B_z + E_x)*sin(B_z*q*t/m)/(B_z**2*q) + m*(B_z - E_y)*cos(B_z*q*t/m)/(B_z**2*q))]"
      ]
     },
     "execution_count": 9,
     "metadata": {},
     "output_type": "execute_result"
    }
   ],
   "source": [
    "sol_ode_kopel_xy_khusus = smp.dsolve((ode_x, ode_y), [x(t),y(t)], ics={x(0):0, y(0):0, x(t).diff(t).subs(t,0): 1, y(t).diff(t).subs(t, 0): 1})\n",
    "sol_ode_kopel_xy_khusus"
   ]
  },
  {
   "cell_type": "code",
   "execution_count": 10,
   "id": "d95d95c9-8b52-4173-9449-35a6c65e71a7",
   "metadata": {},
   "outputs": [
    {
     "data": {
      "text/latex": [
       "$\\displaystyle x{\\left(t \\right)} = \\frac{E_{y} t}{B_{z}} + \\frac{m}{B_{z} q} + \\frac{E_{x} m \\sin^{2}{\\left(\\frac{B_{z} q t}{m} \\right)}}{B_{z}^{2} q} + \\frac{E_{x} m \\cos^{2}{\\left(\\frac{B_{z} q t}{m} \\right)}}{B_{z}^{2} q} - \\frac{m \\left(B_{z} + E_{x}\\right) \\cos{\\left(\\frac{B_{z} q t}{m} \\right)}}{B_{z}^{2} q} + \\frac{m \\left(B_{z} - E_{y}\\right) \\sin{\\left(\\frac{B_{z} q t}{m} \\right)}}{B_{z}^{2} q}$"
      ],
      "text/plain": [
       "Eq(x(t), E_y*t/B_z + m/(B_z*q) + E_x*m*sin(B_z*q*t/m)**2/(B_z**2*q) + E_x*m*cos(B_z*q*t/m)**2/(B_z**2*q) - m*(B_z + E_x)*cos(B_z*q*t/m)/(B_z**2*q) + m*(B_z - E_y)*sin(B_z*q*t/m)/(B_z**2*q))"
      ]
     },
     "execution_count": 10,
     "metadata": {},
     "output_type": "execute_result"
    }
   ],
   "source": [
    "xt = sol_ode_kopel_xy_khusus[0]\n",
    "xt"
   ]
  },
  {
   "cell_type": "code",
   "execution_count": 11,
   "id": "8d5df932-2986-48aa-82a0-0fd6138f2efc",
   "metadata": {},
   "outputs": [
    {
     "data": {
      "text/latex": [
       "$\\displaystyle y{\\left(t \\right)} = - \\frac{E_{x} t}{B_{z}} - \\frac{m}{B_{z} q} + \\frac{E_{y} m \\sin^{2}{\\left(\\frac{B_{z} q t}{m} \\right)}}{B_{z}^{2} q} + \\frac{E_{y} m \\cos^{2}{\\left(\\frac{B_{z} q t}{m} \\right)}}{B_{z}^{2} q} + \\frac{m \\left(B_{z} + E_{x}\\right) \\sin{\\left(\\frac{B_{z} q t}{m} \\right)}}{B_{z}^{2} q} + \\frac{m \\left(B_{z} - E_{y}\\right) \\cos{\\left(\\frac{B_{z} q t}{m} \\right)}}{B_{z}^{2} q}$"
      ],
      "text/plain": [
       "Eq(y(t), -E_x*t/B_z - m/(B_z*q) + E_y*m*sin(B_z*q*t/m)**2/(B_z**2*q) + E_y*m*cos(B_z*q*t/m)**2/(B_z**2*q) + m*(B_z + E_x)*sin(B_z*q*t/m)/(B_z**2*q) + m*(B_z - E_y)*cos(B_z*q*t/m)/(B_z**2*q))"
      ]
     },
     "execution_count": 11,
     "metadata": {},
     "output_type": "execute_result"
    }
   ],
   "source": [
    "yt = sol_ode_kopel_xy_khusus[1]\n",
    "yt"
   ]
  },
  {
   "cell_type": "code",
   "execution_count": 12,
   "id": "a668195e-878d-4c0e-b4cc-fcacdebca635",
   "metadata": {},
   "outputs": [
    {
     "data": {
      "text/latex": [
       "$\\displaystyle z{\\left(t \\right)} = \\frac{E_{z} q t^{2}}{2 m} + t$"
      ],
      "text/plain": [
       "Eq(z(t), E_z*q*t**2/(2*m) + t)"
      ]
     },
     "execution_count": 12,
     "metadata": {},
     "output_type": "execute_result"
    }
   ],
   "source": [
    "sol_ode_z_khusus = smp.dsolve(ode_z, z(t), ics = {z(0): 0, z(t).diff(t).subs(t, 0): 1})\n",
    "sol_ode_z_khusus"
   ]
  },
  {
   "cell_type": "code",
   "execution_count": 4,
   "id": "2283b0ce-2abb-418f-a867-df2b133cdab5",
   "metadata": {},
   "outputs": [],
   "source": [
    "# for creating a responsive plot\n",
    "%matplotlib widget\n",
    "from mpl_toolkits.mplot3d import Axes3D  # noqa: F401 unused import\n",
    "import numpy as np\n",
    "import matplotlib.pylab as plt"
   ]
  },
  {
   "cell_type": "code",
   "execution_count": 5,
   "id": "aecade48-1ae8-453d-ba90-0edc13a09d04",
   "metadata": {},
   "outputs": [],
   "source": [
    "def fxyz(t, vx, vy, vz, Ex, Ey, Ez, Bz, m, q):\n",
    "    return [q*Ex + q*Bz*vy, q*Ey - q*Bz*vx, q*Ez]"
   ]
  },
  {
   "cell_type": "code",
   "execution_count": 6,
   "id": "90cd6dd4-877e-44b4-a2ca-e31975eaa9ac",
   "metadata": {},
   "outputs": [],
   "source": [
    "def euler(t, x, y, z, vx, vy, vz, Ex, Ey, Ez, Bz, m, q):\n",
    "    n = len(t)\n",
    "    dt = t[1]-t[0]\n",
    "\n",
    "    for i in range(n-1):\n",
    "        ax = fxyz(t[i], vx[i], vy[i], vz[i+1], Ex, Ey, Ez, Bz, m, q)[0]/m        \n",
    "        vx[i+1] = vx[i] + dt*ax\n",
    "        ay = fxyz(t[i], vx[i+1], vy[i], vz[i], Ex, Ey, Ez, Bz, m, q)[1]/m\n",
    "        vy[i+1] = vy[i] + dt*ay\n",
    "        az = fxyz(t[i], vx[i], vy[i+1], vz[i], Ex, Ey, Ez, Bz, m, q)[2]/m\n",
    "        vz[i+1] = vz[i] + dt*az\n",
    "        x[i+1] = x[i] + dt*vx[i+1]\n",
    "        y[i+1] = y[i] + dt*vy[i+1]\n",
    "        z[i+1] = z[i] + dt*vz[i+1]    \n",
    "    return x, y, z"
   ]
  },
  {
   "cell_type": "code",
   "execution_count": 7,
   "id": "d720cb71-fd67-4c45-8a8b-4c07919c17db",
   "metadata": {},
   "outputs": [
    {
     "data": {
      "text/plain": [
       "3.3490000000000004e-08"
      ]
     },
     "execution_count": 7,
     "metadata": {},
     "output_type": "execute_result"
    }
   ],
   "source": [
    "t = np.linspace(0, 3.35e-8, 3351)\n",
    "# tmax = 3.35e-8\n",
    "t[3349]"
   ]
  },
  {
   "cell_type": "code",
   "execution_count": 8,
   "id": "ed6741aa-cd41-4353-b210-e296f19279b0",
   "metadata": {},
   "outputs": [],
   "source": [
    "n = len(t)\n",
    "vx = np.zeros(n)\n",
    "vy = np.zeros(n)\n",
    "vz = np.zeros(n)\n",
    "x = np.zeros(n)\n",
    "y = np.zeros(n)\n",
    "z = np.zeros(n)\n",
    "\n",
    "vx[0] = 1.0 # 1.0e6\n",
    "vy[0] = 1.0\n",
    "vz[0] = 1.0\n",
    "\n",
    "\n",
    "x[0] = 0.0\n",
    "y[0] = 0.0\n",
    "z[0] = 0.0\n",
    "\n",
    "Bz = 0.005\n",
    "#Bz = 0.0\n",
    "Ex = 0.0\n",
    "# Ey = 1.0e4 # sikloid\n",
    "Ey = 0.0\n",
    "Ez = 0.0\n",
    "\n",
    "# dt = 2.0e-11\n",
    "q = 1.6e-19\n",
    "m = 9.1e-31"
   ]
  },
  {
   "cell_type": "code",
   "execution_count": 9,
   "id": "553dc1af-ecd3-4c79-a300-e1dc45e284fd",
   "metadata": {},
   "outputs": [],
   "source": [
    "# analitik\n",
    "xa = Ey*t/Bz + m/(Bz*q) + Ex*m*np.sin(Bz*q*t/m)**2/(Bz**2*q) + Ex*m*np.cos(Bz*q*t/m)**2/(Bz**2*q) - m*(Bz + Ex)*np.cos(Bz*q*t/m)/(Bz**2*q) + m*(Bz - Ey)*np.sin(Bz*q*t/m)/(Bz**2*q)\n",
    "ya = -Ex*t/Bz - m/(Bz*q) + Ey*m*np.sin(Bz*q*t/m)**2/(Bz**2*q) + Ey*m*np.cos(Bz*q*t/m)**2/(Bz**2*q) + m*(Bz + Ex)*np.sin(Bz*q*t/m)/(Bz**2*q) + m*(Bz - Ey)*np.cos(Bz*q*t/m)/(Bz**2*q)\n",
    "za = (Ez*q/(2*m))*t**2 + t"
   ]
  },
  {
   "cell_type": "code",
   "execution_count": 10,
   "id": "be98858b-d809-4a11-b9d4-13147b316e43",
   "metadata": {},
   "outputs": [],
   "source": [
    "# numerik Euler\n",
    "x1, y1, z1 = euler(t, x, y, z, vx, vy, vz, Ex, Ey, Ez, Bz, m, q)"
   ]
  },
  {
   "cell_type": "code",
   "execution_count": 1,
   "id": "7da6cebb-368e-405a-8081-9682384343b9",
   "metadata": {},
   "outputs": [
    {
     "ename": "NameError",
     "evalue": "name 'plt' is not defined",
     "output_type": "error",
     "traceback": [
      "\u001b[0;31m---------------------------------------------------------------------------\u001b[0m",
      "\u001b[0;31mNameError\u001b[0m                                 Traceback (most recent call last)",
      "Cell \u001b[0;32mIn[1], line 1\u001b[0m\n\u001b[0;32m----> 1\u001b[0m fig \u001b[38;5;241m=\u001b[39m \u001b[43mplt\u001b[49m\u001b[38;5;241m.\u001b[39mfigure()\n\u001b[1;32m      2\u001b[0m ax \u001b[38;5;241m=\u001b[39m fig\u001b[38;5;241m.\u001b[39madd_subplot(\u001b[38;5;241m111\u001b[39m, projection\u001b[38;5;241m=\u001b[39m\u001b[38;5;124m'\u001b[39m\u001b[38;5;124m3d\u001b[39m\u001b[38;5;124m'\u001b[39m)\n\u001b[1;32m      3\u001b[0m ax\u001b[38;5;241m.\u001b[39mplot(x1, y1, z1, c\u001b[38;5;241m=\u001b[39m\u001b[38;5;124m'\u001b[39m\u001b[38;5;124mb\u001b[39m\u001b[38;5;124m'\u001b[39m, label\u001b[38;5;241m=\u001b[39m\u001b[38;5;124m'\u001b[39m\u001b[38;5;124mEuler\u001b[39m\u001b[38;5;124m'\u001b[39m)\n",
      "\u001b[0;31mNameError\u001b[0m: name 'plt' is not defined"
     ]
    }
   ],
   "source": [
    "fig = plt.figure()\n",
    "ax = fig.add_subplot(111, projection='3d')\n",
    "ax.plot(x1, y1, z1, c='b', label='Euler')\n",
    "ax.plot(xa, ya, za, c='r', label='Analitik')\n",
    "ax.legend()\n",
    "ax.set_xlabel('X')\n",
    "ax.set_ylabel('Y')\n",
    "ax.set_zlabel('Z')\n",
    "plt.show()"
   ]
  },
  {
   "cell_type": "markdown",
   "id": "4b6a086c",
   "metadata": {},
   "source": [
    "# Contoh Animasi"
   ]
  },
  {
   "cell_type": "markdown",
   "id": "58049914",
   "metadata": {},
   "source": [
    "Animasi memerlukan kaitan waktu tampilan dengan frame animasi, sehingga harus menentukan jumlah frame per sekon.\n",
    "\n",
    "* Berikut adalah gelombang sinus yang bergerak dengan kecepatan $v$ = 6 m/s. \n",
    "\n",
    "$$ y(x,t) = A \\sin \\left [ \\tfrac{2\\pi}{\\lambda}(x - vt) \\right ]$$\n",
    "\n",
    "dengan amplitudo $A$ dan bilangan gelombang $ k = \\tfrac{2\\pi}{\\lambda} $"
   ]
  },
  {
   "cell_type": "code",
   "execution_count": 25,
   "id": "30a80aff",
   "metadata": {},
   "outputs": [],
   "source": [
    "import numpy as np\n",
    "import matplotlib.pyplot as plt"
   ]
  },
  {
   "cell_type": "code",
   "execution_count": 26,
   "id": "a4b0a911",
   "metadata": {},
   "outputs": [],
   "source": [
    "plt.style.use(['science', 'notebook', 'grid'])"
   ]
  },
  {
   "cell_type": "code",
   "execution_count": 33,
   "id": "b766d7a3",
   "metadata": {},
   "outputs": [],
   "source": [
    "def f(x, t, k, v):\n",
    "    return np.sin(k*(x-v*t))\n",
    "\n",
    "x = np.linspace(0, 10*np.pi, 1000)\n",
    "t = np.arange(0, 24, 1/60)\n",
    "X, T = np.meshgrid(x, t)\n",
    "k = 1\n",
    "v = 6\n",
    "F = f(X, T, k, v)"
   ]
  },
  {
   "cell_type": "code",
   "execution_count": 24,
   "id": "81fef276",
   "metadata": {},
   "outputs": [
    {
     "data": {
      "text/plain": [
       "1.0"
      ]
     },
     "execution_count": 24,
     "metadata": {},
     "output_type": "execute_result"
    }
   ],
   "source": [
    "60/60"
   ]
  },
  {
   "cell_type": "code",
   "execution_count": 28,
   "id": "082ed697",
   "metadata": {},
   "outputs": [
    {
     "data": {
      "text/plain": [
       "[<matplotlib.lines.Line2D at 0x13fd132b0>]"
      ]
     },
     "execution_count": 28,
     "metadata": {},
     "output_type": "execute_result"
    },
    {
     "data": {
      "image/png": "[encoded data removed]",
      "text/plain": [
       "<Figure size 576x432 with 1 Axes>"
      ]
     },
     "metadata": {
      "needs_background": "light"
     },
     "output_type": "display_data"
    }
   ],
   "source": [
    "plt.plot(x, F[0])"
   ]
  },
  {
   "cell_type": "code",
   "execution_count": 34,
   "id": "ecdd2d06",
   "metadata": {},
   "outputs": [],
   "source": [
    "from matplotlib import animation\n",
    "from matplotlib.animation import PillowWriter"
   ]
  },
  {
   "cell_type": "code",
   "execution_count": 35,
   "id": "217652ed",
   "metadata": {},
   "outputs": [
    {
     "data": {
      "image/png": "[encoded data removed]",
      "text/plain": [
       "<Figure size 576x288 with 1 Axes>"
      ]
     },
     "metadata": {
      "needs_background": "light"
     },
     "output_type": "display_data"
    }
   ],
   "source": [
    "fig, ax = plt.subplots(1,1, figsize=(8,4))\n",
    "ln1, = plt.plot([], [])\n",
    "time_text = ax.text(0.65, 0.95, '', fontsize=15,\n",
    "                    bbox=dict(facecolor='white', edgecolor='black'), \n",
    "                    transform=ax.transAxes)\n",
    "ax.set_xlim(0,10*np.pi)\n",
    "ax.set_ylim(-1.5, 1.5)\n",
    "\n",
    "def animate(i):\n",
    "    ln1.set_data(x, F[i])\n",
    "    time_text.set_text('t={:.2f}'.format(i/60))\n",
    "    \n",
    "ani = animation.FuncAnimation(fig, animate, frames=240, interval=50)\n",
    "ani.save('images/ani.gif',writer='pillow',fps=50,dpi=100)"
   ]
  },
  {
   "cell_type": "code",
   "execution_count": 13,
   "id": "8120d8e6",
   "metadata": {},
   "outputs": [],
   "source": [
    "_ = np.linspace(-1, 1, 100)\n",
    "x, y = np.meshgrid(_,_)\n",
    "x = xa\n",
    "y = ya\n",
    "z = za"
   ]
  },
  {
   "cell_type": "code",
   "execution_count": null,
   "id": "1c3224a3",
   "metadata": {},
   "outputs": [],
   "source": [
    "fig = plt.figure()\n",
    "# ax = fig.add_subplot(111, projection='3d')\n",
    "fig, ax = plt.subplots(subplot_kw={\"projection\": \"3d\"})\n",
    "# ax.plot(x1, y1, z1, c='b', label='Euler')\n",
    "ax.plot(x, y, z)\n",
    "\n",
    "# ax.plot_surface(x,y,z, cmap='coolwarm',\n",
    "#                       linewidth=0, antialiased=False)\n",
    "\n",
    "# ax.plot(x,y,z)\n",
    "\n",
    "ax.view_init(elev=30, azim=0, vertical_axis='z')\n",
    "\n",
    "def animate(i):\n",
    "    ax.view_init(elev=30, azim=3*i)\n",
    "    \n",
    "ani = animation.FuncAnimation(fig, animate, frames=120, interval=50)\n",
    "ani.save('images/ani3.gif',writer='pillow',fps=30,dpi=100)"
   ]
  },
  {
   "cell_type": "markdown",
   "id": "28e7aa17-8513-41ca-a104-e225203953e3",
   "metadata": {},
   "source": [
    "### Referensi\n",
    "\n",
    "* Thuerey, N., Holl, P., Mueller, M., Schnell, P., Trost, F., & Um, K. (2021). [Physics-based deep learning](https://arxiv.org/abs/2109.05237). arXiv preprint arXiv:2109.05237.\n",
    "* Chen, R. T., Rubanova, Y., Bettencourt, J., & Duvenaud, D. K. (2018). [Neural ordinary differential equations](https://proceedings.neurips.cc/paper_files/paper/2018/file/69386f6bb1dfed68692a24c8686939b9-Paper.pdf). Advances in neural information processing systems, 31.\n",
    "* Liang, J., & Lin, M. C. (2020, February). [Differentiable physics simulation](https://openreview.net/forum?id=p-SG2KFY2). In ICLR 2020 Workshop on Integration of Deep Neural Models and Differential Equations.\n",
    "* McNally, W., Lambeth, J., & Brekke, D. (2023). [Combining Physics and Deep Learning Models To Simulate the Flight of a Golf Ball](https://openaccess.thecvf.com/content/CVPR2023W/CVSports/html/McNally_Combining_Physics_and_Deep_Learning_Models_To_Simulate_the_Flight_CVPRW_2023_paper.html). In Proceedings of the IEEE/CVF Conference on Computer Vision and Pattern Recognition (pp. 5118-5127).\n",
    "* Hu, Y., Anderson, L., Li, T. M., Sun, Q., Carr, N., Ragan-Kelley, J., & Durand, F. (2019). [Difftaichi: Differentiable programming for physical simulation](https://arxiv.org/abs/1910.00935). arXiv preprint arXiv:1910.00935.\n"
   ]
  },
  {
   "cell_type": "code",
   "execution_count": null,
   "id": "b214ab92-575b-43f7-bbb1-ded63be66790",
   "metadata": {},
   "outputs": [],
   "source": []
  }
 ],
 "metadata": {
  "kernelspec": {
   "display_name": "Python 3",
   "language": "python",
   "name": "python3"
  },
  "language_info": {
   "codemirror_mode": {
    "name": "ipython",
    "version": 3
   },
   "file_extension": ".py",
   "mimetype": "text/x-python",
   "name": "python",
   "nbconvert_exporter": "python",
   "pygments_lexer": "ipython3",
   "version": "3.9.16"
  }
 },
 "nbformat": 4,
 "nbformat_minor": 5
}
